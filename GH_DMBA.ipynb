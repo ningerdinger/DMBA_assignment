{
 "cells": [
  {
   "cell_type": "code",
   "execution_count": 892,
   "metadata": {},
   "outputs": [],
   "source": [
    "import random\n",
    "\n",
    "n = 20\n",
    "\n",
    "# Initializing an empty adjacency matrix with zeros\n",
    "W = [[0] * n for i in range(n)]\n",
    "\n",
    "# Generate random edge weights (assuming non-negative weights)\n",
    "for i in range(n):\n",
    "    for j in range(i+1, n):\n",
    "        weight = random.uniform(0, 10)  # Adjust the range as needed\n",
    "        # weight = random.randint(0, 4)  # Adjust the range as needed\n",
    "        # Ensure that edges are undirected by setting W[i][j] = W[j][i] = weight\n",
    "        W[i][j] = W[j][i] = weight"
   ]
  },
  {
   "cell_type": "code",
   "execution_count": 893,
   "metadata": {},
   "outputs": [],
   "source": [
    "# for testing purposes\n",
    "# W = [[0, 4, 2, 4, 0],\n",
    "#  [4, 0, 3, 3, 0],\n",
    "#  [2, 3, 0, 2, 1],\n",
    "#  [4, 3, 2, 0, 2],\n",
    "#  [0, 0, 1, 2, 0]]"
   ]
  },
  {
   "cell_type": "code",
   "execution_count": 894,
   "metadata": {},
   "outputs": [],
   "source": [
    "A = []\n",
    "B = []\n",
    "\n",
    "for i in range(n):\n",
    "    r = random.randint(0,1)\n",
    "    if r == 0:\n",
    "        A.append(i)\n",
    "    else:\n",
    "        B.append(i)"
   ]
  },
  {
   "cell_type": "code",
   "execution_count": 895,
   "metadata": {},
   "outputs": [
    {
     "name": "stdout",
     "output_type": "stream",
     "text": [
      "[0, 2, 3, 7, 8, 9, 11, 12, 13, 14, 15, 18, 19]\n",
      "[1, 4, 5, 6, 10, 16, 17]\n"
     ]
    }
   ],
   "source": [
    "print(A)\n",
    "print(B)"
   ]
  },
  {
   "cell_type": "code",
   "execution_count": 896,
   "metadata": {},
   "outputs": [],
   "source": [
    "def count_weight(W:list, A:dict, B:dict):\n",
    "    total_weight = 0\n",
    "    for i in A:\n",
    "        for j in B:\n",
    "            total_weight += W[i][j]\n",
    "    return total_weight"
   ]
  },
  {
   "cell_type": "code",
   "execution_count": 897,
   "metadata": {},
   "outputs": [
    {
     "name": "stdout",
     "output_type": "stream",
     "text": [
      "The (sub)optimal set A is [0, 2, 3, 7, 8, 9, 11, 12, 13, 14, 15, 18, 19]\n",
      "The (sub)optimal set B is [1, 4, 5, 6, 10, 16, 17]\n",
      "The total weight of these sets is: 456.3193519670727\n"
     ]
    }
   ],
   "source": [
    "print(\"The (sub)optimal set A is {}\".format(A))\n",
    "print(\"The (sub)optimal set B is {}\".format(B))\n",
    "total_weight = count_weight(W, A, B)\n",
    "print(\"The total weight of these sets is: {}\".format(total_weight))"
   ]
  },
  {
   "cell_type": "code",
   "execution_count": 898,
   "metadata": {},
   "outputs": [
    {
     "name": "stdout",
     "output_type": "stream",
     "text": [
      "The optimal set A is [0, 2, 3, 8, 11, 18, 19, 5, 10, 17]\n",
      "The optimal set B is [1, 4, 6, 16, 13, 12, 14, 9, 7, 15]\n",
      "The total weight of these sets is: 551.889694260453\n"
     ]
    }
   ],
   "source": [
    "N = 100\n",
    "\n",
    "for i in range(N):\n",
    "    r = random.randint(0,len(W)-1)\n",
    "    temp_A = A.copy()\n",
    "    temp_B = B.copy()\n",
    "    # print(\"the old set A is: {}\".format(A))\n",
    "    # print(\"the old set B is: {}\".format(B))\n",
    "    if r in A:\n",
    "        # print(str(r)+\" is in A\")\n",
    "        temp_B.append(r)\n",
    "        temp_A.remove(r)\n",
    "    else:\n",
    "        # print(str(r)+\" is in B\")\n",
    "        temp_A.append(r)\n",
    "        temp_B.remove(r)\n",
    "    new_weight = count_weight(W, temp_A, temp_B)\n",
    "    # print(\"the new weight is: {}\".format(new_weight))\n",
    "    # print(\"the old weight is: {}\".format(total_weight))\n",
    "    # print(\"the new set A is: {}\".format(temp_A))\n",
    "    # print(\"the new set B is: {}\".format(temp_B))\n",
    "    if new_weight >= total_weight:\n",
    "        # print('success this new set is an improvement')\n",
    "        A = temp_A\n",
    "        B = temp_B\n",
    "        total_weight = new_weight\n",
    "    # print()\n",
    "print(\"The optimal set A is {}\".format(A))\n",
    "print(\"The optimal set B is {}\".format(B))\n",
    "total_weight = count_weight(W, A, B)\n",
    "print(\"The total weight of these sets is: {}\".format(total_weight))"
   ]
  }
 ],
 "metadata": {
  "kernelspec": {
   "display_name": "Python 3",
   "language": "python",
   "name": "python3"
  },
  "language_info": {
   "codemirror_mode": {
    "name": "ipython",
    "version": 3
   },
   "file_extension": ".py",
   "mimetype": "text/x-python",
   "name": "python",
   "nbconvert_exporter": "python",
   "pygments_lexer": "ipython3",
   "version": "3.10.6"
  },
  "orig_nbformat": 4
 },
 "nbformat": 4,
 "nbformat_minor": 2
}
