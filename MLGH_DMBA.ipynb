{
 "cells": [
  {
   "cell_type": "code",
   "execution_count": 43,
   "metadata": {},
   "outputs": [],
   "source": [
    "import random\n",
    "\n",
    "def generate_data():\n",
    "    n = 10\n",
    "\n",
    "    # Initializing an empty adjacency matrix with zeros\n",
    "    W = [[0] * n for i in range(n)]\n",
    "\n",
    "    # Generate random edge weights (assuming non-negative weights)\n",
    "    for i in range(n):\n",
    "        for j in range(i+1, n):\n",
    "            # weight = random.uniform(0, 10)  # Adjust the range as needed\n",
    "            weight = random.randint(0, 10)  # Adjust the range as needed\n",
    "            # Ensure that edges are undirected by setting W[i][j] = W[j][i] = weight\n",
    "            W[i][j] = W[j][i] = weight\n",
    "    return W"
   ]
  },
  {
   "cell_type": "code",
   "execution_count": 44,
   "metadata": {},
   "outputs": [],
   "source": [
    "W = []\n",
    "for i in range(1000):\n",
    "    data = generate_data()\n",
    "    W.append(data)\n"
   ]
  },
  {
   "cell_type": "code",
   "execution_count": 45,
   "metadata": {},
   "outputs": [],
   "source": [
    "import numpy as np\n",
    "array = np.array(data)"
   ]
  },
  {
   "cell_type": "code",
   "execution_count": 46,
   "metadata": {},
   "outputs": [
    {
     "data": {
      "text/plain": [
       "(10, 10)"
      ]
     },
     "execution_count": 46,
     "metadata": {},
     "output_type": "execute_result"
    }
   ],
   "source": [
    "array.shape"
   ]
  },
  {
   "cell_type": "code",
   "execution_count": 47,
   "metadata": {},
   "outputs": [],
   "source": [
    "def randomize_set(W):\n",
    "    A = []\n",
    "    B = []\n",
    "\n",
    "    for i in range(len(W)):\n",
    "        r = random.randint(0,1)\n",
    "        if r == 0:\n",
    "            A.append(i)\n",
    "        else:\n",
    "            B.append(i)\n",
    "    return A, B"
   ]
  },
  {
   "cell_type": "code",
   "execution_count": 48,
   "metadata": {},
   "outputs": [],
   "source": [
    "def count_weight(W:list, A:list, B:list):\n",
    "    total_weight = 0\n",
    "    for i in A:\n",
    "        for j in B:\n",
    "            total_weight += W[i][j]\n",
    "    return total_weight"
   ]
  },
  {
   "cell_type": "code",
   "execution_count": 49,
   "metadata": {},
   "outputs": [
    {
     "name": "stdout",
     "output_type": "stream",
     "text": [
      "The (sub)optimal set A is [0, 1, 2, 3, 4, 5, 6, 7]\n",
      "The (sub)optimal set B is [8, 9]\n",
      "The total weight of these sets is: 73\n"
     ]
    }
   ],
   "source": [
    "A,B = randomize_set(W[0])\n",
    "print(\"The (sub)optimal set A is {}\".format(A))\n",
    "print(\"The (sub)optimal set B is {}\".format(B))\n",
    "total_weight = count_weight(W[0], A, B)\n",
    "print(\"The total weight of these sets is: {}\".format(total_weight))"
   ]
  },
  {
   "cell_type": "code",
   "execution_count": 50,
   "metadata": {},
   "outputs": [],
   "source": [
    "def Greedy_Heuristic(W: list, A: list, B: list, total_weight: int):\n",
    "    N = 500\n",
    "    for i in range(N):\n",
    "        r = random.randint(0,len(W)-1)\n",
    "        temp_A = A.copy()\n",
    "        temp_B = B.copy()\n",
    "        # print(\"the old set A is: {}\".format(A))\n",
    "        # print(\"the old set B is: {}\".format(B))\n",
    "        if r in A:\n",
    "            # print(str(r)+\" is in A\")\n",
    "            temp_B.append(r)\n",
    "            temp_A.remove(r)\n",
    "        else:\n",
    "            # print(str(r)+\" is in B\")\n",
    "            temp_A.append(r)\n",
    "            temp_B.remove(r)\n",
    "        new_weight = count_weight(W, temp_A, temp_B)\n",
    "        # print(\"the new weight is: {}\".format(new_weight))\n",
    "        # print(\"the old weight is: {}\".format(total_weight))\n",
    "        # print(\"the new set A is: {}\".format(temp_A))\n",
    "        # print(\"the new set B is: {}\".format(temp_B))\n",
    "        if new_weight >= total_weight:\n",
    "            # print('success this new set is an improvement')\n",
    "            A = temp_A\n",
    "            B = temp_B\n",
    "            total_weight = new_weight\n",
    "        # print()\n",
    "    A = sorted(A)\n",
    "    B = sorted(B)\n",
    "    # print(\"The optimal set A is {}\".format(A))\n",
    "    # print(\"The optimal set B is {}\".format(B))\n",
    "    total_weight = count_weight(W, A, B)\n",
    "    # print(\"The total weight of these sets is: {}\".format(total_weight))\n",
    "    return A, B, total_weight"
   ]
  },
  {
   "cell_type": "code",
   "execution_count": null,
   "metadata": {},
   "outputs": [],
   "source": [
    "import numpy as np\n",
    "from tensorflow import keras\n",
    "from tensorflow.keras import layers\n",
    "import matplotlib.pyplot as plt\n",
    "from sklearn.metrics import confusion_matrix, accuracy_score\n",
    "\n",
    "def build_binary_model(xtrain, ytrain, xtest, ytest, nrlayers, nrnodes, rate):\n",
    "    # This function builds the model with nrlayes layers and nrnodes nodes in each layer\n",
    "    # nrlayers is a number and nrnodes is a vector specifying how many nodes each layer should contain\n",
    "    model = keras.Sequential()\n",
    "    numclasses = 1\n",
    "\n",
    "    # add the layers\n",
    "    for i in range(nrlayers + 1):\n",
    "        if (i == 0):\n",
    "            # input layer\n",
    "            model.add(keras.Input(shape=input_shape))\n",
    "        else:\n",
    "            # hidden layers\n",
    "            nrnode = nrnodes[i - 1]\n",
    "            model.add(keras.layers.Dense(nrnode, activation=\"sigmoid\"))\n",
    "\n",
    "    model.add(keras.layers.Dense(numclasses, activation=\"sigmoid\"))\n",
    "\n",
    "    # give summary of model\n",
    "    model.summary()\n",
    "\n",
    "    # train model\n",
    "    batch_size = 32 # Based on SGD --> 1 gradient is calculated using 32 data points every time\n",
    "    #so in each epoch, training_size/batch_size many gradient calculations and weight updates\n",
    "    epochs = 10 # How many times to go through the data to complete the SGD\n",
    "\n",
    "    opt = keras.optimizers.SGD(learning_rate=rate)\n",
    "    model.compile(loss=\"binary_crossentropy\",\n",
    "                  optimizer=opt,\n",
    "                  metrics=[\"accuracy\"])\n",
    "\n",
    "    # fit the model, note that keras takes care of the train set/validation set\n",
    "    model.fit(xtrain, ytrain, batch_size=batch_size, epochs=epochs, validation_split=0.1)\n",
    "\n",
    "    # get results\n",
    "    score = model.evaluate(xtest, ytest, verbose=1)\n",
    "    print(\"Test loss:\", score[0])\n",
    "    print(\"Test accuracy:\", score[1])\n",
    "    return model"
   ]
  },
  {
   "cell_type": "code",
   "execution_count": 51,
   "metadata": {},
   "outputs": [],
   "source": [
    "set_A = []\n",
    "set_B = []\n",
    "sum_weight = []\n",
    "for w in W:\n",
    "    A,B = randomize_set(w)\n",
    "    current_weight = count_weight(w, A, B)\n",
    "    a,b,weight = Greedy_Heuristic(w, A, B, current_weight)\n",
    "    set_A.append(a)\n",
    "    set_B.append(b)\n",
    "    sum_weight.append(weight)"
   ]
  },
  {
   "cell_type": "code",
   "execution_count": 64,
   "metadata": {},
   "outputs": [],
   "source": [
    "g = [5,6,7,]\n",
    "l = [5,7,3,2]"
   ]
  },
  {
   "cell_type": "code",
   "execution_count": 66,
   "metadata": {},
   "outputs": [],
   "source": [
    "z = []\n",
    "z.append(g)\n",
    "z.append(l)"
   ]
  },
  {
   "cell_type": "code",
   "execution_count": 67,
   "metadata": {},
   "outputs": [
    {
     "name": "stderr",
     "output_type": "stream",
     "text": [
      "C:\\Users\\jelle\\AppData\\Local\\Temp\\ipykernel_11844\\618559966.py:2: VisibleDeprecationWarning: Creating an ndarray from ragged nested sequences (which is a list-or-tuple of lists-or-tuples-or ndarrays with different lengths or shapes) is deprecated. If you meant to do this, you must specify 'dtype=object' when creating the ndarray.\n",
      "  test = np.array(z)\n"
     ]
    }
   ],
   "source": [
    "import numpy as np\n",
    "test = np.array(z)\n"
   ]
  },
  {
   "cell_type": "code",
   "execution_count": 68,
   "metadata": {},
   "outputs": [
    {
     "data": {
      "text/plain": [
       "array([list([5, 6, 7]), list([5, 7, 3, 2])], dtype=object)"
      ]
     },
     "execution_count": 68,
     "metadata": {},
     "output_type": "execute_result"
    }
   ],
   "source": [
    "test"
   ]
  }
 ],
 "metadata": {
  "kernelspec": {
   "display_name": "Python 3",
   "language": "python",
   "name": "python3"
  },
  "language_info": {
   "codemirror_mode": {
    "name": "ipython",
    "version": 3
   },
   "file_extension": ".py",
   "mimetype": "text/x-python",
   "name": "python",
   "nbconvert_exporter": "python",
   "pygments_lexer": "ipython3",
   "version": "3.10.6"
  },
  "orig_nbformat": 4
 },
 "nbformat": 4,
 "nbformat_minor": 2
}
