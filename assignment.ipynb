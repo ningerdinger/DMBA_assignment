{
 "cells": [
  {
   "cell_type": "code",
   "execution_count": 22,
   "metadata": {},
   "outputs": [],
   "source": [
    "#assignment DMBA\n",
    "import gurobipy as gp\n",
    "from gurobipy import GRB\n",
    "import random\n",
    "\n",
    "# Create a new model\n",
    "m = gp.Model(\"mip1\")\n",
    "# Create variable"
   ]
  },
  {
   "cell_type": "code",
   "execution_count": 23,
   "metadata": {},
   "outputs": [],
   "source": [
    "W=[[0,1,1,0,0],\n",
    "   [1,0,1,1,0],\n",
    "   [1,1,0,0,1],\n",
    "   [0,1,0,0,1],\n",
    "   [0,0,1,1,0]]\n",
    "n = len(W)"
   ]
  },
  {
   "cell_type": "code",
   "execution_count": 24,
   "metadata": {},
   "outputs": [],
   "source": [
    "n = 20\n",
    "\n",
    "# Initializing an empty adjacency matrix with zeros\n",
    "W = [[0] * n for _ in range(n)]\n",
    "\n",
    "# Generate random edge weights (assuming non-negative weights)\n",
    "for i in range(n):\n",
    "    for j in range(i+1, n):\n",
    "        weight = random.uniform(0, 10)  # Adjust the range as needed\n",
    "        # Ensure that edges are undirected by setting W[i][j] = W[j][i] = weight\n",
    "        W[i][j] = W[j][i] = weight\n"
   ]
  },
  {
   "cell_type": "code",
   "execution_count": 25,
   "metadata": {},
   "outputs": [],
   "source": [
    "x = {}\n",
    "x = m.addVars(range(n),vtype = \"I\", name=\"x\", lb=-1, ub=1)\n",
    "b = m.addVars(range(n),vtype = \"B\", name=\"b\")\n",
    "\n",
    "m.setObjective((1/4)*sum(W[i][j]*(1-(x[i]*x[j])) for i in range(n) for j in range(n)), GRB.MAXIMIZE)"
   ]
  },
  {
   "cell_type": "code",
   "execution_count": 26,
   "metadata": {},
   "outputs": [
    {
     "data": {
      "text/plain": [
       "<gurobi.Constr *Awaiting Model Update*>"
      ]
     },
     "execution_count": 26,
     "metadata": {},
     "output_type": "execute_result"
    }
   ],
   "source": [
    "m.addConstr(x != 0)\n"
   ]
  },
  {
   "cell_type": "code",
   "execution_count": 27,
   "metadata": {},
   "outputs": [
    {
     "name": "stdout",
     "output_type": "stream",
     "text": [
      "Gurobi Optimizer version 10.0.3 build v10.0.3rc0 (win64)\n",
      "\n",
      "CPU model: Intel(R) Core(TM) i7-8565U CPU @ 1.80GHz, instruction set [SSE2|AVX|AVX2]\n",
      "Thread count: 4 physical cores, 8 logical processors, using up to 8 threads\n",
      "\n",
      "Optimize a model with 1 rows, 40 columns and 0 nonzeros\n",
      "Model fingerprint: 0xacde366c\n",
      "Model has 190 quadratic objective terms\n",
      "Variable types: 0 continuous, 40 integer (20 binary)\n",
      "Coefficient statistics:\n",
      "  Matrix range     [0e+00, 0e+00]\n",
      "  Objective range  [0e+00, 0e+00]\n",
      "  QObjective range [1e-03, 1e+01]\n",
      "  Bounds range     [1e+00, 1e+00]\n",
      "  RHS range        [0e+00, 0e+00]\n",
      "Found heuristic solution: objective -0.0000000\n",
      "Presolve removed 1 rows and 20 columns\n",
      "Presolve time: 0.01s\n",
      "Presolved: 171 rows, 191 columns, 513 nonzeros\n",
      "Variable types: 0 continuous, 191 integer (191 binary)\n",
      "Found heuristic solution: objective 487.2896508\n",
      "\n",
      "Root relaxation: objective 8.613124e+02, 46 iterations, 0.00 seconds (0.00 work units)\n",
      "\n",
      "    Nodes    |    Current Node    |     Objective Bounds      |     Work\n",
      " Expl Unexpl |  Obj  Depth IntInf | Incumbent    BestBd   Gap | It/Node Time\n",
      "\n",
      "     0     0  861.31238    0   19  487.28965  861.31238  76.8%     -    0s\n",
      "H    0     0                     503.2280988  861.31238  71.2%     -    0s\n",
      "H    0     0                     524.6411330  861.31238  64.2%     -    0s\n",
      "H    0     0                     529.8743986  861.31238  62.6%     -    0s\n",
      "     0     0  665.31472    0   81  529.87440  665.31472  25.6%     -    0s\n",
      "     0     0  622.37000    0  179  529.87440  622.37000  17.5%     -    0s\n",
      "     0     0  622.32217    0  179  529.87440  622.32217  17.4%     -    0s\n",
      "     0     2  622.32217    0  179  529.87440  622.32217  17.4%     -    0s\n",
      "*   47    56               8     562.8848025  598.91012  6.40%  54.6    0s\n",
      "\n",
      "Cutting planes:\n",
      "  Gomory: 2\n",
      "  MIR: 139\n",
      "  Zero half: 33\n",
      "  RLT: 56\n",
      "  BQP: 9\n",
      "\n",
      "Explored 274 nodes (9156 simplex iterations) in 0.42 seconds (0.14 work units)\n",
      "Thread count was 8 (of 8 available processors)\n",
      "\n",
      "Solution count 6: 562.885 529.874 524.641 ... -0\n",
      "\n",
      "Optimal solution found (tolerance 1.00e-04)\n",
      "Best objective 5.628848025160e+02, best bound 5.628848025160e+02, gap 0.0000%\n"
     ]
    }
   ],
   "source": [
    "m.optimize()"
   ]
  },
  {
   "cell_type": "code",
   "execution_count": 28,
   "metadata": {},
   "outputs": [
    {
     "data": {
      "text/plain": [
       "{0: <gurobi.Var x[0] (value -1.0)>,\n",
       " 1: <gurobi.Var x[1] (value 1.0)>,\n",
       " 2: <gurobi.Var x[2] (value 1.0)>,\n",
       " 3: <gurobi.Var x[3] (value 1.0)>,\n",
       " 4: <gurobi.Var x[4] (value -1.0)>,\n",
       " 5: <gurobi.Var x[5] (value 1.0)>,\n",
       " 6: <gurobi.Var x[6] (value 1.0)>,\n",
       " 7: <gurobi.Var x[7] (value 1.0)>,\n",
       " 8: <gurobi.Var x[8] (value 1.0)>,\n",
       " 9: <gurobi.Var x[9] (value -1.0)>,\n",
       " 10: <gurobi.Var x[10] (value -1.0)>,\n",
       " 11: <gurobi.Var x[11] (value -1.0)>,\n",
       " 12: <gurobi.Var x[12] (value -1.0)>,\n",
       " 13: <gurobi.Var x[13] (value -1.0)>,\n",
       " 14: <gurobi.Var x[14] (value -1.0)>,\n",
       " 15: <gurobi.Var x[15] (value 1.0)>,\n",
       " 16: <gurobi.Var x[16] (value 1.0)>,\n",
       " 17: <gurobi.Var x[17] (value 1.0)>,\n",
       " 18: <gurobi.Var x[18] (value -1.0)>,\n",
       " 19: <gurobi.Var x[19] (value -1.0)>}"
      ]
     },
     "execution_count": 28,
     "metadata": {},
     "output_type": "execute_result"
    }
   ],
   "source": [
    "x"
   ]
  },
  {
   "cell_type": "code",
   "execution_count": null,
   "metadata": {},
   "outputs": [],
   "source": []
  }
 ],
 "metadata": {
  "kernelspec": {
   "display_name": "Python 3",
   "language": "python",
   "name": "python3"
  },
  "language_info": {
   "codemirror_mode": {
    "name": "ipython",
    "version": 3
   },
   "file_extension": ".py",
   "mimetype": "text/x-python",
   "name": "python",
   "nbconvert_exporter": "python",
   "pygments_lexer": "ipython3",
   "version": "3.10.6"
  },
  "orig_nbformat": 4
 },
 "nbformat": 4,
 "nbformat_minor": 2
}
